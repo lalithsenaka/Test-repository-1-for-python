{
  "metadata": {
    "kernelspec": {
      "name": "xpython",
      "display_name": "Python 3.13 (XPython)",
      "language": "python"
    },
    "language_info": {
      "file_extension": ".py",
      "mimetype": "text/x-python",
      "name": "python",
      "version": "3.13.1"
    }
  },
  "nbformat_minor": 5,
  "nbformat": 4,
  "cells": [
    {
      "id": "ae35c6db-8230-4f75-844a-9fb9ef42e006",
      "cell_type": "markdown",
      "source": "### python first lesson",
      "metadata": {}
    },
    {
      "id": "ede157f6-638e-49b3-9c4d-c7fa4cbfc1a5",
      "cell_type": "markdown",
      "source": "## python lessons",
      "metadata": {}
    },
    {
      "id": "37d6211b-ecda-4ab3-b6d0-d1c445bfa8bc",
      "cell_type": "markdown",
      "source": "# python",
      "metadata": {}
    },
    {
      "id": "88ced022-5957-4eaa-915f-3fab13713d21",
      "cell_type": "code",
      "source": "print(\"Senaka\")",
      "metadata": {
        "trusted": true
      },
      "outputs": [
        {
          "name": "stdout",
          "output_type": "stream",
          "text": "Senaka\n"
        }
      ],
      "execution_count": 1
    },
    {
      "id": "50915925-2322-42ca-ab8b-b44b4323790e",
      "cell_type": "code",
      "source": "print(\"senaka\")",
      "metadata": {
        "trusted": true
      },
      "outputs": [
        {
          "name": "stdout",
          "output_type": "stream",
          "text": "senaka\n"
        }
      ],
      "execution_count": 3
    },
    {
      "id": "72ed3596-62aa-4b08-b408-fc0d0601788c",
      "cell_type": "code",
      "source": "print(\"ddd\")",
      "metadata": {
        "trusted": true
      },
      "outputs": [
        {
          "name": "stdout",
          "output_type": "stream",
          "text": "ddd\n"
        }
      ],
      "execution_count": 6
    },
    {
      "id": "d6b2f0b0-c2b3-4fab-b03a-ffe135966f15",
      "cell_type": "code",
      "source": "print(\"ddd\")",
      "metadata": {
        "trusted": true
      },
      "outputs": [
        {
          "name": "stdout",
          "output_type": "stream",
          "text": "ddd\n"
        }
      ],
      "execution_count": 9
    },
    {
      "id": "c1228a7a-c0b8-46a1-b287-46fc27b8fa46",
      "cell_type": "code",
      "source": "print(\"ddd\")",
      "metadata": {
        "trusted": true
      },
      "outputs": [
        {
          "name": "stdout",
          "output_type": "stream",
          "text": "ddd\n"
        }
      ],
      "execution_count": 8
    },
    {
      "id": "42ac11ed-78c3-4385-8f62-015389a85a1a",
      "cell_type": "code",
      "source": "",
      "metadata": {
        "trusted": true
      },
      "outputs": [],
      "execution_count": null
    },
    {
      "id": "6efaa2bf-3cc9-4b3e-90b1-08d7effed218",
      "cell_type": "markdown",
      "source": "## python lessons",
      "metadata": {}
    }
  ]
}