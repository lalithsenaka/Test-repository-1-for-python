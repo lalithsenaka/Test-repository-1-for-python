{
  "metadata": {
    "kernelspec": {
      "name": "xpython",
      "display_name": "Python 3.13 (XPython)",
      "language": "python"
    },
    "language_info": {
      "file_extension": ".py",
      "mimetype": "text/x-python",
      "name": "python",
      "version": "3.13.1"
    }
  },
  "nbformat_minor": 5,
  "nbformat": 4,
  "cells": [
    {
      "id": "6fd4f611-96f8-45d7-809b-cd52d3566b85",
      "cell_type": "markdown",
      "source": "### Welcome to Python",
      "metadata": {}
    },
    {
      "id": "55e0b97e-1e0e-4bb5-ad97-d6efb637e4a5",
      "cell_type": "markdown",
      "source": "## Welcome to Python",
      "metadata": {}
    },
    {
      "id": "6e4d23f1-020b-4c9a-97b2-7a008dd87b2b",
      "cell_type": "markdown",
      "source": "# Welcome to python",
      "metadata": {}
    },
    {
      "id": "c55be4fb-fbe5-4d7f-a72b-59502fa0339d",
      "cell_type": "code",
      "source": "",
      "metadata": {
        "trusted": true
      },
      "outputs": [],
      "execution_count": null
    },
    {
      "id": "c178a1fb-a1f6-403e-867a-d5ec43e9c698",
      "cell_type": "code",
      "source": "",
      "metadata": {
        "trusted": true
      },
      "outputs": [],
      "execution_count": null
    },
    {
      "id": "dfe66a97-47ec-4444-a983-3434a96ccc1d",
      "cell_type": "code",
      "source": "",
      "metadata": {
        "trusted": true
      },
      "outputs": [],
      "execution_count": null
    }
  ]
}